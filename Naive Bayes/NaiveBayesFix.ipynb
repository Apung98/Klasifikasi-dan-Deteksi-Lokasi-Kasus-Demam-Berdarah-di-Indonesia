{
 "cells": [
  {
   "cell_type": "code",
   "execution_count": 1,
   "metadata": {},
   "outputs": [],
   "source": [
    "import matplotlib.pyplot as plt\n",
    "import pandas as pd\n",
    "import numpy as np\n",
    "import string\n",
    "import re\n",
    "import seaborn as sns\n",
    "%matplotlib inline"
   ]
  },
  {
   "cell_type": "code",
   "execution_count": 4,
   "metadata": {
    "scrolled": true
   },
   "outputs": [
    {
     "data": {
      "text/plain": [
       "Bukan Kasus    476\n",
       "Kasus          268\n",
       "Name: Label, dtype: int64"
      ]
     },
     "execution_count": 4,
     "metadata": {},
     "output_type": "execute_result"
    }
   ],
   "source": [
    "df = pd.read_excel ('training&valid.xlsx')\n",
    "df.Label.value_counts()"
   ]
  },
  {
   "cell_type": "code",
   "execution_count": 5,
   "metadata": {
    "scrolled": true
   },
   "outputs": [
    {
     "data": {
      "text/plain": [
       "<matplotlib.axes._subplots.AxesSubplot at 0x250af77b6d0>"
      ]
     },
     "execution_count": 5,
     "metadata": {},
     "output_type": "execute_result"
    },
    {
     "data": {
      "image/png": "[encoded data removed]",
      "text/plain": [
       "<Figure size 432x288 with 1 Axes>"
      ]
     },
     "metadata": {
      "needs_background": "light"
     },
     "output_type": "display_data"
    }
   ],
   "source": [
    "df['Label'].value_counts().plot(kind= 'bar')"
   ]
  },
  {
   "cell_type": "code",
   "execution_count": 6,
   "metadata": {
    "scrolled": false
   },
   "outputs": [],
   "source": [
    "def ProTweets(text):\n",
    "    text = text.lower()\n",
    "    text = re.sub(r\"(?:\\@|https?\\://)\\S+\", \"\", text)\n",
    "    text = \"\".join([char for char in text if char not in string.punctuation])\n",
    "    text = re.sub('http\\S+', '', text)\n",
    "    return text\n",
    "\n",
    "df['Tweet'] = df['Tweet'].apply(lambda x: ProTweets(x))"
   ]
  },
  {
   "cell_type": "code",
   "execution_count": 7,
   "metadata": {},
   "outputs": [],
   "source": [
    "from sklearn.model_selection import train_test_split\n",
    "\n",
    "X_train, X_valid, y_train, y_valid = train_test_split(df['Tweet'], df['Label'],test_size=0.25, random_state=10)"
   ]
  },
  {
   "cell_type": "code",
   "execution_count": 8,
   "metadata": {},
   "outputs": [
    {
     "name": "stdout",
     "output_type": "stream",
     "text": [
      "X_train_shape :  (558,)\n",
      "X_valid_shape :  (186,)\n",
      "y_train_shape :  (558,)\n",
      "y_valid_shape :  (186,)\n"
     ]
    }
   ],
   "source": [
    "print(\"X_train_shape : \",X_train.shape)\n",
    "print(\"X_valid_shape : \",X_valid.shape)\n",
    "print(\"y_train_shape : \",y_train.shape)\n",
    "print(\"y_valid_shape : \",y_valid.shape)"
   ]
  },
  {
   "cell_type": "code",
   "execution_count": 9,
   "metadata": {},
   "outputs": [
    {
     "name": "stdout",
     "output_type": "stream",
     "text": [
      "558 Number of tweets has 1886 words\n",
      "186 Number of tweets has 1886 words\n"
     ]
    }
   ],
   "source": [
    "from sklearn.feature_extraction.text import CountVectorizer\n",
    "\n",
    "count_unigram = CountVectorizer(ngram_range=(1,1))\n",
    "count_train_unigram = count_unigram.fit_transform(X_train)\n",
    "count_valid_unigram = count_unigram.transform(X_valid)\n",
    "print('{} Number of tweets has {} words'.format(count_train_unigram.shape[0], count_train_unigram.shape[1]))\n",
    "print('{} Number of tweets has {} words'.format(count_valid_unigram.shape[0], count_valid_unigram.shape[1]))"
   ]
  },
  {
   "cell_type": "code",
   "execution_count": 10,
   "metadata": {},
   "outputs": [
    {
     "name": "stdout",
     "output_type": "stream",
     "text": [
      "558 Number of tweets has 3943 words\n",
      "186 Number of tweets has 3943 words\n"
     ]
    }
   ],
   "source": [
    "from sklearn.feature_extraction.text import CountVectorizer\n",
    "\n",
    "count_bigram = CountVectorizer(ngram_range=(2,2)) \n",
    "count_train_bigram = count_bigram.fit_transform(X_train)\n",
    "count_valid_bigram = count_bigram.transform(X_valid)\n",
    "print('{} Number of tweets has {} words'.format(count_train_bigram.shape[0], count_train_bigram.shape[1]))\n",
    "print('{} Number of tweets has {} words'.format(count_valid_bigram.shape[0], count_valid_bigram.shape[1]))"
   ]
  },
  {
   "cell_type": "code",
   "execution_count": 11,
   "metadata": {},
   "outputs": [
    {
     "data": {
      "text/html": [
       "<div>\n",
       "<style scoped>\n",
       "    .dataframe tbody tr th:only-of-type {\n",
       "        vertical-align: middle;\n",
       "    }\n",
       "\n",
       "    .dataframe tbody tr th {\n",
       "        vertical-align: top;\n",
       "    }\n",
       "\n",
       "    .dataframe thead th {\n",
       "        text-align: right;\n",
       "    }\n",
       "</style>\n",
       "<table border=\"1\" class=\"dataframe\">\n",
       "  <thead>\n",
       "    <tr style=\"text-align: right;\">\n",
       "      <th></th>\n",
       "      <th>01xe2x80xa6</th>\n",
       "      <th>02</th>\n",
       "      <th>021</th>\n",
       "      <th>0614kota</th>\n",
       "      <th>07gatak</th>\n",
       "      <th>0800</th>\n",
       "      <th>0801</th>\n",
       "      <th>0854</th>\n",
       "      <th>091105lbs</th>\n",
       "      <th>091108nns</th>\n",
       "      <th>...</th>\n",
       "      <th>yangxe2x80xa6</th>\n",
       "      <th>yannkena</th>\n",
       "      <th>yanxe2x80xa6</th>\n",
       "      <th>yg</th>\n",
       "      <th>yng</th>\n",
       "      <th>yogya</th>\n",
       "      <th>yogyakarta</th>\n",
       "      <th>yonif</th>\n",
       "      <th>zika</th>\n",
       "      <th>zona</th>\n",
       "    </tr>\n",
       "  </thead>\n",
       "  <tbody>\n",
       "    <tr>\n",
       "      <th>0</th>\n",
       "      <td>0</td>\n",
       "      <td>0</td>\n",
       "      <td>0</td>\n",
       "      <td>0</td>\n",
       "      <td>0</td>\n",
       "      <td>0</td>\n",
       "      <td>0</td>\n",
       "      <td>0</td>\n",
       "      <td>0</td>\n",
       "      <td>0</td>\n",
       "      <td>...</td>\n",
       "      <td>0</td>\n",
       "      <td>0</td>\n",
       "      <td>0</td>\n",
       "      <td>0</td>\n",
       "      <td>0</td>\n",
       "      <td>0</td>\n",
       "      <td>0</td>\n",
       "      <td>0</td>\n",
       "      <td>0</td>\n",
       "      <td>0</td>\n",
       "    </tr>\n",
       "    <tr>\n",
       "      <th>1</th>\n",
       "      <td>0</td>\n",
       "      <td>0</td>\n",
       "      <td>0</td>\n",
       "      <td>0</td>\n",
       "      <td>0</td>\n",
       "      <td>0</td>\n",
       "      <td>0</td>\n",
       "      <td>0</td>\n",
       "      <td>0</td>\n",
       "      <td>0</td>\n",
       "      <td>...</td>\n",
       "      <td>0</td>\n",
       "      <td>0</td>\n",
       "      <td>0</td>\n",
       "      <td>0</td>\n",
       "      <td>0</td>\n",
       "      <td>0</td>\n",
       "      <td>0</td>\n",
       "      <td>0</td>\n",
       "      <td>0</td>\n",
       "      <td>0</td>\n",
       "    </tr>\n",
       "    <tr>\n",
       "      <th>2</th>\n",
       "      <td>0</td>\n",
       "      <td>0</td>\n",
       "      <td>0</td>\n",
       "      <td>0</td>\n",
       "      <td>0</td>\n",
       "      <td>0</td>\n",
       "      <td>0</td>\n",
       "      <td>0</td>\n",
       "      <td>0</td>\n",
       "      <td>0</td>\n",
       "      <td>...</td>\n",
       "      <td>0</td>\n",
       "      <td>1</td>\n",
       "      <td>0</td>\n",
       "      <td>0</td>\n",
       "      <td>0</td>\n",
       "      <td>0</td>\n",
       "      <td>0</td>\n",
       "      <td>0</td>\n",
       "      <td>0</td>\n",
       "      <td>0</td>\n",
       "    </tr>\n",
       "    <tr>\n",
       "      <th>3</th>\n",
       "      <td>0</td>\n",
       "      <td>0</td>\n",
       "      <td>0</td>\n",
       "      <td>0</td>\n",
       "      <td>0</td>\n",
       "      <td>0</td>\n",
       "      <td>0</td>\n",
       "      <td>0</td>\n",
       "      <td>0</td>\n",
       "      <td>0</td>\n",
       "      <td>...</td>\n",
       "      <td>0</td>\n",
       "      <td>0</td>\n",
       "      <td>0</td>\n",
       "      <td>0</td>\n",
       "      <td>0</td>\n",
       "      <td>0</td>\n",
       "      <td>0</td>\n",
       "      <td>0</td>\n",
       "      <td>0</td>\n",
       "      <td>0</td>\n",
       "    </tr>\n",
       "    <tr>\n",
       "      <th>4</th>\n",
       "      <td>0</td>\n",
       "      <td>0</td>\n",
       "      <td>0</td>\n",
       "      <td>0</td>\n",
       "      <td>0</td>\n",
       "      <td>0</td>\n",
       "      <td>0</td>\n",
       "      <td>0</td>\n",
       "      <td>0</td>\n",
       "      <td>0</td>\n",
       "      <td>...</td>\n",
       "      <td>0</td>\n",
       "      <td>0</td>\n",
       "      <td>0</td>\n",
       "      <td>0</td>\n",
       "      <td>0</td>\n",
       "      <td>0</td>\n",
       "      <td>0</td>\n",
       "      <td>0</td>\n",
       "      <td>0</td>\n",
       "      <td>0</td>\n",
       "    </tr>\n",
       "    <tr>\n",
       "      <th>...</th>\n",
       "      <td>...</td>\n",
       "      <td>...</td>\n",
       "      <td>...</td>\n",
       "      <td>...</td>\n",
       "      <td>...</td>\n",
       "      <td>...</td>\n",
       "      <td>...</td>\n",
       "      <td>...</td>\n",
       "      <td>...</td>\n",
       "      <td>...</td>\n",
       "      <td>...</td>\n",
       "      <td>...</td>\n",
       "      <td>...</td>\n",
       "      <td>...</td>\n",
       "      <td>...</td>\n",
       "      <td>...</td>\n",
       "      <td>...</td>\n",
       "      <td>...</td>\n",
       "      <td>...</td>\n",
       "      <td>...</td>\n",
       "      <td>...</td>\n",
       "    </tr>\n",
       "    <tr>\n",
       "      <th>553</th>\n",
       "      <td>0</td>\n",
       "      <td>0</td>\n",
       "      <td>0</td>\n",
       "      <td>0</td>\n",
       "      <td>0</td>\n",
       "      <td>0</td>\n",
       "      <td>0</td>\n",
       "      <td>0</td>\n",
       "      <td>0</td>\n",
       "      <td>0</td>\n",
       "      <td>...</td>\n",
       "      <td>0</td>\n",
       "      <td>0</td>\n",
       "      <td>0</td>\n",
       "      <td>0</td>\n",
       "      <td>0</td>\n",
       "      <td>0</td>\n",
       "      <td>0</td>\n",
       "      <td>0</td>\n",
       "      <td>0</td>\n",
       "      <td>0</td>\n",
       "    </tr>\n",
       "    <tr>\n",
       "      <th>554</th>\n",
       "      <td>1</td>\n",
       "      <td>0</td>\n",
       "      <td>0</td>\n",
       "      <td>0</td>\n",
       "      <td>0</td>\n",
       "      <td>1</td>\n",
       "      <td>0</td>\n",
       "      <td>0</td>\n",
       "      <td>0</td>\n",
       "      <td>0</td>\n",
       "      <td>...</td>\n",
       "      <td>0</td>\n",
       "      <td>0</td>\n",
       "      <td>0</td>\n",
       "      <td>0</td>\n",
       "      <td>0</td>\n",
       "      <td>0</td>\n",
       "      <td>0</td>\n",
       "      <td>0</td>\n",
       "      <td>0</td>\n",
       "      <td>0</td>\n",
       "    </tr>\n",
       "    <tr>\n",
       "      <th>555</th>\n",
       "      <td>0</td>\n",
       "      <td>0</td>\n",
       "      <td>0</td>\n",
       "      <td>0</td>\n",
       "      <td>0</td>\n",
       "      <td>0</td>\n",
       "      <td>0</td>\n",
       "      <td>0</td>\n",
       "      <td>0</td>\n",
       "      <td>0</td>\n",
       "      <td>...</td>\n",
       "      <td>0</td>\n",
       "      <td>0</td>\n",
       "      <td>0</td>\n",
       "      <td>0</td>\n",
       "      <td>0</td>\n",
       "      <td>0</td>\n",
       "      <td>0</td>\n",
       "      <td>0</td>\n",
       "      <td>0</td>\n",
       "      <td>0</td>\n",
       "    </tr>\n",
       "    <tr>\n",
       "      <th>556</th>\n",
       "      <td>0</td>\n",
       "      <td>0</td>\n",
       "      <td>0</td>\n",
       "      <td>0</td>\n",
       "      <td>0</td>\n",
       "      <td>0</td>\n",
       "      <td>0</td>\n",
       "      <td>0</td>\n",
       "      <td>0</td>\n",
       "      <td>0</td>\n",
       "      <td>...</td>\n",
       "      <td>0</td>\n",
       "      <td>0</td>\n",
       "      <td>0</td>\n",
       "      <td>0</td>\n",
       "      <td>0</td>\n",
       "      <td>0</td>\n",
       "      <td>0</td>\n",
       "      <td>0</td>\n",
       "      <td>0</td>\n",
       "      <td>0</td>\n",
       "    </tr>\n",
       "    <tr>\n",
       "      <th>557</th>\n",
       "      <td>0</td>\n",
       "      <td>0</td>\n",
       "      <td>0</td>\n",
       "      <td>0</td>\n",
       "      <td>0</td>\n",
       "      <td>0</td>\n",
       "      <td>0</td>\n",
       "      <td>0</td>\n",
       "      <td>0</td>\n",
       "      <td>0</td>\n",
       "      <td>...</td>\n",
       "      <td>0</td>\n",
       "      <td>0</td>\n",
       "      <td>0</td>\n",
       "      <td>0</td>\n",
       "      <td>0</td>\n",
       "      <td>0</td>\n",
       "      <td>0</td>\n",
       "      <td>0</td>\n",
       "      <td>0</td>\n",
       "      <td>0</td>\n",
       "    </tr>\n",
       "  </tbody>\n",
       "</table>\n",
       "<p>558 rows × 1886 columns</p>\n",
       "</div>"
      ],
      "text/plain": [
       "     01xe2x80xa6  02  021  0614kota  07gatak  0800  0801  0854  091105lbs  \\\n",
       "0              0   0    0         0        0     0     0     0          0   \n",
       "1              0   0    0         0        0     0     0     0          0   \n",
       "2              0   0    0         0        0     0     0     0          0   \n",
       "3              0   0    0         0        0     0     0     0          0   \n",
       "4              0   0    0         0        0     0     0     0          0   \n",
       "..           ...  ..  ...       ...      ...   ...   ...   ...        ...   \n",
       "553            0   0    0         0        0     0     0     0          0   \n",
       "554            1   0    0         0        0     1     0     0          0   \n",
       "555            0   0    0         0        0     0     0     0          0   \n",
       "556            0   0    0         0        0     0     0     0          0   \n",
       "557            0   0    0         0        0     0     0     0          0   \n",
       "\n",
       "     091108nns  ...  yangxe2x80xa6  yannkena  yanxe2x80xa6  yg  yng  yogya  \\\n",
       "0            0  ...              0         0             0   0    0      0   \n",
       "1            0  ...              0         0             0   0    0      0   \n",
       "2            0  ...              0         1             0   0    0      0   \n",
       "3            0  ...              0         0             0   0    0      0   \n",
       "4            0  ...              0         0             0   0    0      0   \n",
       "..         ...  ...            ...       ...           ...  ..  ...    ...   \n",
       "553          0  ...              0         0             0   0    0      0   \n",
       "554          0  ...              0         0             0   0    0      0   \n",
       "555          0  ...              0         0             0   0    0      0   \n",
       "556          0  ...              0         0             0   0    0      0   \n",
       "557          0  ...              0         0             0   0    0      0   \n",
       "\n",
       "     yogyakarta  yonif  zika  zona  \n",
       "0             0      0     0     0  \n",
       "1             0      0     0     0  \n",
       "2             0      0     0     0  \n",
       "3             0      0     0     0  \n",
       "4             0      0     0     0  \n",
       "..          ...    ...   ...   ...  \n",
       "553           0      0     0     0  \n",
       "554           0      0     0     0  \n",
       "555           0      0     0     0  \n",
       "556           0      0     0     0  \n",
       "557           0      0     0     0  \n",
       "\n",
       "[558 rows x 1886 columns]"
      ]
     },
     "execution_count": 11,
     "metadata": {},
     "output_type": "execute_result"
    }
   ],
   "source": [
    "count_df_unigram = pd.DataFrame(count_train_unigram.toarray(), columns=count_unigram.get_feature_names())\n",
    "count_df_unigram"
   ]
  },
  {
   "cell_type": "code",
   "execution_count": 12,
   "metadata": {},
   "outputs": [
    {
     "data": {
      "text/html": [
       "<div>\n",
       "<style scoped>\n",
       "    .dataframe tbody tr th:only-of-type {\n",
       "        vertical-align: middle;\n",
       "    }\n",
       "\n",
       "    .dataframe tbody tr th {\n",
       "        vertical-align: top;\n",
       "    }\n",
       "\n",
       "    .dataframe thead th {\n",
       "        text-align: right;\n",
       "    }\n",
       "</style>\n",
       "<table border=\"1\" class=\"dataframe\">\n",
       "  <thead>\n",
       "    <tr style=\"text-align: right;\">\n",
       "      <th></th>\n",
       "      <th>02 kelurahan</th>\n",
       "      <th>021 51010350</th>\n",
       "      <th>0614kota cirebon</th>\n",
       "      <th>07gatak dan</th>\n",
       "      <th>0800 wib</th>\n",
       "      <th>0801 pacitan</th>\n",
       "      <th>0854 beritasonora</th>\n",
       "      <th>091105lbs bekerjasama</th>\n",
       "      <th>091108nns laksanakan</th>\n",
       "      <th>0911nunukan instruksikan</th>\n",
       "      <th>...</th>\n",
       "      <th>yng bisa</th>\n",
       "      <th>yogya capai</th>\n",
       "      <th>yogya hampir</th>\n",
       "      <th>yogyakarta melaporkan</th>\n",
       "      <th>yogyakarta mencatat</th>\n",
       "      <th>yogyakarta waspada</th>\n",
       "      <th>yonif 623bwu</th>\n",
       "      <th>zika berikut</th>\n",
       "      <th>zika dengue</th>\n",
       "      <th>zona hijau</th>\n",
       "    </tr>\n",
       "  </thead>\n",
       "  <tbody>\n",
       "    <tr>\n",
       "      <th>0</th>\n",
       "      <td>0</td>\n",
       "      <td>0</td>\n",
       "      <td>0</td>\n",
       "      <td>0</td>\n",
       "      <td>0</td>\n",
       "      <td>0</td>\n",
       "      <td>0</td>\n",
       "      <td>0</td>\n",
       "      <td>0</td>\n",
       "      <td>0</td>\n",
       "      <td>...</td>\n",
       "      <td>0</td>\n",
       "      <td>0</td>\n",
       "      <td>0</td>\n",
       "      <td>0</td>\n",
       "      <td>0</td>\n",
       "      <td>0</td>\n",
       "      <td>0</td>\n",
       "      <td>0</td>\n",
       "      <td>0</td>\n",
       "      <td>0</td>\n",
       "    </tr>\n",
       "    <tr>\n",
       "      <th>1</th>\n",
       "      <td>0</td>\n",
       "      <td>0</td>\n",
       "      <td>0</td>\n",
       "      <td>0</td>\n",
       "      <td>0</td>\n",
       "      <td>0</td>\n",
       "      <td>0</td>\n",
       "      <td>0</td>\n",
       "      <td>0</td>\n",
       "      <td>0</td>\n",
       "      <td>...</td>\n",
       "      <td>0</td>\n",
       "      <td>0</td>\n",
       "      <td>0</td>\n",
       "      <td>0</td>\n",
       "      <td>0</td>\n",
       "      <td>0</td>\n",
       "      <td>0</td>\n",
       "      <td>0</td>\n",
       "      <td>0</td>\n",
       "      <td>0</td>\n",
       "    </tr>\n",
       "    <tr>\n",
       "      <th>2</th>\n",
       "      <td>0</td>\n",
       "      <td>0</td>\n",
       "      <td>0</td>\n",
       "      <td>0</td>\n",
       "      <td>0</td>\n",
       "      <td>0</td>\n",
       "      <td>0</td>\n",
       "      <td>0</td>\n",
       "      <td>0</td>\n",
       "      <td>0</td>\n",
       "      <td>...</td>\n",
       "      <td>0</td>\n",
       "      <td>0</td>\n",
       "      <td>0</td>\n",
       "      <td>0</td>\n",
       "      <td>0</td>\n",
       "      <td>0</td>\n",
       "      <td>0</td>\n",
       "      <td>0</td>\n",
       "      <td>0</td>\n",
       "      <td>0</td>\n",
       "    </tr>\n",
       "    <tr>\n",
       "      <th>3</th>\n",
       "      <td>0</td>\n",
       "      <td>0</td>\n",
       "      <td>0</td>\n",
       "      <td>0</td>\n",
       "      <td>0</td>\n",
       "      <td>0</td>\n",
       "      <td>0</td>\n",
       "      <td>0</td>\n",
       "      <td>0</td>\n",
       "      <td>0</td>\n",
       "      <td>...</td>\n",
       "      <td>0</td>\n",
       "      <td>0</td>\n",
       "      <td>0</td>\n",
       "      <td>0</td>\n",
       "      <td>0</td>\n",
       "      <td>0</td>\n",
       "      <td>0</td>\n",
       "      <td>0</td>\n",
       "      <td>0</td>\n",
       "      <td>0</td>\n",
       "    </tr>\n",
       "    <tr>\n",
       "      <th>4</th>\n",
       "      <td>0</td>\n",
       "      <td>0</td>\n",
       "      <td>0</td>\n",
       "      <td>0</td>\n",
       "      <td>0</td>\n",
       "      <td>0</td>\n",
       "      <td>0</td>\n",
       "      <td>0</td>\n",
       "      <td>0</td>\n",
       "      <td>0</td>\n",
       "      <td>...</td>\n",
       "      <td>0</td>\n",
       "      <td>0</td>\n",
       "      <td>0</td>\n",
       "      <td>0</td>\n",
       "      <td>0</td>\n",
       "      <td>0</td>\n",
       "      <td>0</td>\n",
       "      <td>0</td>\n",
       "      <td>0</td>\n",
       "      <td>0</td>\n",
       "    </tr>\n",
       "    <tr>\n",
       "      <th>...</th>\n",
       "      <td>...</td>\n",
       "      <td>...</td>\n",
       "      <td>...</td>\n",
       "      <td>...</td>\n",
       "      <td>...</td>\n",
       "      <td>...</td>\n",
       "      <td>...</td>\n",
       "      <td>...</td>\n",
       "      <td>...</td>\n",
       "      <td>...</td>\n",
       "      <td>...</td>\n",
       "      <td>...</td>\n",
       "      <td>...</td>\n",
       "      <td>...</td>\n",
       "      <td>...</td>\n",
       "      <td>...</td>\n",
       "      <td>...</td>\n",
       "      <td>...</td>\n",
       "      <td>...</td>\n",
       "      <td>...</td>\n",
       "      <td>...</td>\n",
       "    </tr>\n",
       "    <tr>\n",
       "      <th>553</th>\n",
       "      <td>0</td>\n",
       "      <td>0</td>\n",
       "      <td>0</td>\n",
       "      <td>0</td>\n",
       "      <td>0</td>\n",
       "      <td>0</td>\n",
       "      <td>0</td>\n",
       "      <td>0</td>\n",
       "      <td>0</td>\n",
       "      <td>0</td>\n",
       "      <td>...</td>\n",
       "      <td>0</td>\n",
       "      <td>0</td>\n",
       "      <td>0</td>\n",
       "      <td>0</td>\n",
       "      <td>0</td>\n",
       "      <td>0</td>\n",
       "      <td>0</td>\n",
       "      <td>0</td>\n",
       "      <td>0</td>\n",
       "      <td>0</td>\n",
       "    </tr>\n",
       "    <tr>\n",
       "      <th>554</th>\n",
       "      <td>0</td>\n",
       "      <td>0</td>\n",
       "      <td>0</td>\n",
       "      <td>0</td>\n",
       "      <td>1</td>\n",
       "      <td>0</td>\n",
       "      <td>0</td>\n",
       "      <td>0</td>\n",
       "      <td>0</td>\n",
       "      <td>0</td>\n",
       "      <td>...</td>\n",
       "      <td>0</td>\n",
       "      <td>0</td>\n",
       "      <td>0</td>\n",
       "      <td>0</td>\n",
       "      <td>0</td>\n",
       "      <td>0</td>\n",
       "      <td>0</td>\n",
       "      <td>0</td>\n",
       "      <td>0</td>\n",
       "      <td>0</td>\n",
       "    </tr>\n",
       "    <tr>\n",
       "      <th>555</th>\n",
       "      <td>0</td>\n",
       "      <td>0</td>\n",
       "      <td>0</td>\n",
       "      <td>0</td>\n",
       "      <td>0</td>\n",
       "      <td>0</td>\n",
       "      <td>0</td>\n",
       "      <td>0</td>\n",
       "      <td>0</td>\n",
       "      <td>0</td>\n",
       "      <td>...</td>\n",
       "      <td>0</td>\n",
       "      <td>0</td>\n",
       "      <td>0</td>\n",
       "      <td>0</td>\n",
       "      <td>0</td>\n",
       "      <td>0</td>\n",
       "      <td>0</td>\n",
       "      <td>0</td>\n",
       "      <td>0</td>\n",
       "      <td>0</td>\n",
       "    </tr>\n",
       "    <tr>\n",
       "      <th>556</th>\n",
       "      <td>0</td>\n",
       "      <td>0</td>\n",
       "      <td>0</td>\n",
       "      <td>0</td>\n",
       "      <td>0</td>\n",
       "      <td>0</td>\n",
       "      <td>0</td>\n",
       "      <td>0</td>\n",
       "      <td>0</td>\n",
       "      <td>0</td>\n",
       "      <td>...</td>\n",
       "      <td>0</td>\n",
       "      <td>0</td>\n",
       "      <td>0</td>\n",
       "      <td>0</td>\n",
       "      <td>0</td>\n",
       "      <td>0</td>\n",
       "      <td>0</td>\n",
       "      <td>0</td>\n",
       "      <td>0</td>\n",
       "      <td>0</td>\n",
       "    </tr>\n",
       "    <tr>\n",
       "      <th>557</th>\n",
       "      <td>0</td>\n",
       "      <td>0</td>\n",
       "      <td>0</td>\n",
       "      <td>0</td>\n",
       "      <td>0</td>\n",
       "      <td>0</td>\n",
       "      <td>0</td>\n",
       "      <td>0</td>\n",
       "      <td>0</td>\n",
       "      <td>0</td>\n",
       "      <td>...</td>\n",
       "      <td>0</td>\n",
       "      <td>0</td>\n",
       "      <td>0</td>\n",
       "      <td>0</td>\n",
       "      <td>0</td>\n",
       "      <td>0</td>\n",
       "      <td>0</td>\n",
       "      <td>0</td>\n",
       "      <td>0</td>\n",
       "      <td>0</td>\n",
       "    </tr>\n",
       "  </tbody>\n",
       "</table>\n",
       "<p>558 rows × 3943 columns</p>\n",
       "</div>"
      ],
      "text/plain": [
       "     02 kelurahan  021 51010350  0614kota cirebon  07gatak dan  0800 wib  \\\n",
       "0               0             0                 0            0         0   \n",
       "1               0             0                 0            0         0   \n",
       "2               0             0                 0            0         0   \n",
       "3               0             0                 0            0         0   \n",
       "4               0             0                 0            0         0   \n",
       "..            ...           ...               ...          ...       ...   \n",
       "553             0             0                 0            0         0   \n",
       "554             0             0                 0            0         1   \n",
       "555             0             0                 0            0         0   \n",
       "556             0             0                 0            0         0   \n",
       "557             0             0                 0            0         0   \n",
       "\n",
       "     0801 pacitan  0854 beritasonora  091105lbs bekerjasama  \\\n",
       "0               0                  0                      0   \n",
       "1               0                  0                      0   \n",
       "2               0                  0                      0   \n",
       "3               0                  0                      0   \n",
       "4               0                  0                      0   \n",
       "..            ...                ...                    ...   \n",
       "553             0                  0                      0   \n",
       "554             0                  0                      0   \n",
       "555             0                  0                      0   \n",
       "556             0                  0                      0   \n",
       "557             0                  0                      0   \n",
       "\n",
       "     091108nns laksanakan  0911nunukan instruksikan  ...  yng bisa  \\\n",
       "0                       0                         0  ...         0   \n",
       "1                       0                         0  ...         0   \n",
       "2                       0                         0  ...         0   \n",
       "3                       0                         0  ...         0   \n",
       "4                       0                         0  ...         0   \n",
       "..                    ...                       ...  ...       ...   \n",
       "553                     0                         0  ...         0   \n",
       "554                     0                         0  ...         0   \n",
       "555                     0                         0  ...         0   \n",
       "556                     0                         0  ...         0   \n",
       "557                     0                         0  ...         0   \n",
       "\n",
       "     yogya capai  yogya hampir  yogyakarta melaporkan  yogyakarta mencatat  \\\n",
       "0              0             0                      0                    0   \n",
       "1              0             0                      0                    0   \n",
       "2              0             0                      0                    0   \n",
       "3              0             0                      0                    0   \n",
       "4              0             0                      0                    0   \n",
       "..           ...           ...                    ...                  ...   \n",
       "553            0             0                      0                    0   \n",
       "554            0             0                      0                    0   \n",
       "555            0             0                      0                    0   \n",
       "556            0             0                      0                    0   \n",
       "557            0             0                      0                    0   \n",
       "\n",
       "     yogyakarta waspada  yonif 623bwu  zika berikut  zika dengue  zona hijau  \n",
       "0                     0             0             0            0           0  \n",
       "1                     0             0             0            0           0  \n",
       "2                     0             0             0            0           0  \n",
       "3                     0             0             0            0           0  \n",
       "4                     0             0             0            0           0  \n",
       "..                  ...           ...           ...          ...         ...  \n",
       "553                   0             0             0            0           0  \n",
       "554                   0             0             0            0           0  \n",
       "555                   0             0             0            0           0  \n",
       "556                   0             0             0            0           0  \n",
       "557                   0             0             0            0           0  \n",
       "\n",
       "[558 rows x 3943 columns]"
      ]
     },
     "execution_count": 12,
     "metadata": {},
     "output_type": "execute_result"
    }
   ],
   "source": [
    "count_df_bigram = pd.DataFrame(count_train_bigram.toarray(), columns=count_bigram.get_feature_names())\n",
    "count_df_bigram"
   ]
  },
  {
   "cell_type": "code",
   "execution_count": 13,
   "metadata": {},
   "outputs": [],
   "source": [
    "from sklearn.naive_bayes import BernoulliNB  # Naive Bayes Classifier\n",
    "bnb_unigram = BernoulliNB().fit(count_train_unigram, y_train)\n",
    "bnb_bigram = BernoulliNB().fit(count_train_bigram, y_train)"
   ]
  },
  {
   "cell_type": "code",
   "execution_count": 14,
   "metadata": {},
   "outputs": [],
   "source": [
    "valid_unigram = bnb_unigram.predict(count_valid_unigram)\n",
    "valid_bigram = bnb_bigram.predict(count_valid_bigram)"
   ]
  },
  {
   "cell_type": "code",
   "execution_count": 15,
   "metadata": {
    "scrolled": true
   },
   "outputs": [
    {
     "name": "stdout",
     "output_type": "stream",
     "text": [
      "Besar Accuracy:  0.8709677419354839\n"
     ]
    },
    {
     "data": {
      "image/png": "[encoded data removed]",
      "text/plain": [
       "<Figure size 432x288 with 2 Axes>"
      ]
     },
     "metadata": {
      "needs_background": "light"
     },
     "output_type": "display_data"
    }
   ],
   "source": [
    "from sklearn import metrics\n",
    "from sklearn.metrics import accuracy_score\n",
    "from sklearn.metrics import confusion_matrix\n",
    "\n",
    "score_bnb = metrics.accuracy_score(valid_unigram, y_valid)\n",
    "print(\"Besar Accuracy: \",score_bnb)\n",
    "sns.heatmap(confusion_matrix(valid_unigram, y_valid), annot=True, fmt=\".0f\")\n",
    "plt.title('Confusion Matrix Klasifikasi Kasus DBD')\n",
    "plt.xlabel('true label')\n",
    "plt.ylabel('predicted label')\n",
    "plt.show()"
   ]
  },
  {
   "cell_type": "code",
   "execution_count": 16,
   "metadata": {},
   "outputs": [
    {
     "name": "stdout",
     "output_type": "stream",
     "text": [
      "Besar Accuracy:  0.8172043010752689\n"
     ]
    },
    {
     "data": {
      "image/png": "[encoded data removed]",
      "text/plain": [
       "<Figure size 432x288 with 2 Axes>"
      ]
     },
     "metadata": {
      "needs_background": "light"
     },
     "output_type": "display_data"
    }
   ],
   "source": [
    "from sklearn import metrics\n",
    "from sklearn.metrics import accuracy_score\n",
    "from sklearn.metrics import confusion_matrix\n",
    "\n",
    "score_bnb = metrics.accuracy_score(valid_bigram, y_valid)\n",
    "print(\"Besar Accuracy: \",score_bnb)\n",
    "sns.heatmap(confusion_matrix(valid_bigram, y_valid), annot=True, fmt=\".0f\")\n",
    "plt.title('Confusion Matrix Klasifikasi Kasus DBD')\n",
    "plt.xlabel('true label')\n",
    "plt.ylabel('predicted label')\n",
    "plt.show()"
   ]
  },
  {
   "cell_type": "code",
   "execution_count": 18,
   "metadata": {
    "scrolled": true
   },
   "outputs": [
    {
     "name": "stdout",
     "output_type": "stream",
     "text": [
      "              precision    recall  f1-score   support\n",
      "\n",
      " Bukan Kasus       0.92      0.89      0.90       124\n",
      "       Kasus       0.79      0.84      0.81        62\n",
      "\n",
      "    accuracy                           0.87       186\n",
      "   macro avg       0.85      0.86      0.86       186\n",
      "weighted avg       0.87      0.87      0.87       186\n",
      "\n",
      "              precision    recall  f1-score   support\n",
      "\n",
      " Bukan Kasus       0.99      0.78      0.88       152\n",
      "       Kasus       0.50      0.97      0.66        34\n",
      "\n",
      "    accuracy                           0.82       186\n",
      "   macro avg       0.75      0.88      0.77       186\n",
      "weighted avg       0.90      0.82      0.84       186\n",
      "\n"
     ]
    }
   ],
   "source": [
    "from sklearn.metrics import classification_report\n",
    "print(classification_report(valid_unigram, y_valid))\n",
    "print(classification_report(valid_bigram, y_valid))"
   ]
  },
  {
   "cell_type": "code",
   "execution_count": 29,
   "metadata": {},
   "outputs": [
    {
     "name": "stdout",
     "output_type": "stream",
     "text": [
      "<class 'pandas.core.frame.DataFrame'>\n",
      "RangeIndex: 186 entries, 0 to 185\n",
      "Data columns (total 5 columns):\n",
      " #   Column   Non-Null Count  Dtype         \n",
      "---  ------   --------------  -----         \n",
      " 0   URL      186 non-null    object        \n",
      " 1   ID       186 non-null    object        \n",
      " 2   Tanggal  186 non-null    datetime64[ns]\n",
      " 3   Tweet    186 non-null    object        \n",
      " 4   Label    186 non-null    object        \n",
      "dtypes: datetime64[ns](1), object(4)\n",
      "memory usage: 7.4+ KB\n"
     ]
    }
   ],
   "source": [
    "dt = pd.read_excel ('data_test.xlsx')\n",
    "dt.info()"
   ]
  },
  {
   "cell_type": "code",
   "execution_count": 20,
   "metadata": {},
   "outputs": [],
   "source": [
    "dt['Tweet'] = dt['Tweet'].apply(lambda x: ProTweets(x))\n",
    "count_test_unigram = count_unigram.transform(dt['Tweet'])\n",
    "count_test_bigram = count_bigram.transform(dt['Tweet'])"
   ]
  },
  {
   "cell_type": "code",
   "execution_count": 21,
   "metadata": {},
   "outputs": [],
   "source": [
    "testing_unigram = bnb_unigram.predict(count_test_unigram)\n",
    "testing_bigram = bnb_bigram.predict(count_test_bigram)"
   ]
  },
  {
   "cell_type": "code",
   "execution_count": 22,
   "metadata": {
    "scrolled": true
   },
   "outputs": [
    {
     "name": "stdout",
     "output_type": "stream",
     "text": [
      "Accuracy:  0.8978494623655914\n"
     ]
    },
    {
     "data": {
      "image/png": "[encoded data removed]",
      "text/plain": [
       "<Figure size 432x288 with 2 Axes>"
      ]
     },
     "metadata": {
      "needs_background": "light"
     },
     "output_type": "display_data"
    }
   ],
   "source": [
    "score_bnb = metrics.accuracy_score(testing_unigram, dt['Label'])\n",
    "print(\"Accuracy: \",score_bnb)\n",
    "sns.heatmap(confusion_matrix(testing_unigram, dt['Label']), annot=True, fmt=\".0f\")\n",
    "plt.title('Confusion Matrix Klasifikasi Kasus DBD')\n",
    "plt.show()"
   ]
  },
  {
   "cell_type": "code",
   "execution_count": 28,
   "metadata": {},
   "outputs": [
    {
     "data": {
      "text/html": [
       "<div>\n",
       "<style scoped>\n",
       "    .dataframe tbody tr th:only-of-type {\n",
       "        vertical-align: middle;\n",
       "    }\n",
       "\n",
       "    .dataframe tbody tr th {\n",
       "        vertical-align: top;\n",
       "    }\n",
       "\n",
       "    .dataframe thead tr th {\n",
       "        text-align: left;\n",
       "    }\n",
       "</style>\n",
       "<table border=\"1\" class=\"dataframe\">\n",
       "  <thead>\n",
       "    <tr>\n",
       "      <th></th>\n",
       "      <th>Kasus</th>\n",
       "      <th>Bukan Kasus</th>\n",
       "      <th>Bukan Kasus</th>\n",
       "      <th>Bukan Kasus</th>\n",
       "      <th>Bukan Kasus</th>\n",
       "      <th>Bukan Kasus</th>\n",
       "      <th>Bukan Kasus</th>\n",
       "      <th>Bukan Kasus</th>\n",
       "      <th>Bukan Kasus</th>\n",
       "      <th>Bukan Kasus</th>\n",
       "      <th>...</th>\n",
       "      <th>Kasus</th>\n",
       "      <th>Bukan Kasus</th>\n",
       "      <th>Bukan Kasus</th>\n",
       "      <th>Bukan Kasus</th>\n",
       "      <th>Bukan Kasus</th>\n",
       "      <th>Bukan Kasus</th>\n",
       "      <th>Kasus</th>\n",
       "      <th>Bukan Kasus</th>\n",
       "      <th>Bukan Kasus</th>\n",
       "      <th>Kasus</th>\n",
       "    </tr>\n",
       "  </thead>\n",
       "  <tbody>\n",
       "    <tr>\n",
       "      <th>Tweet</th>\n",
       "      <td>NaN</td>\n",
       "      <td>NaN</td>\n",
       "      <td>NaN</td>\n",
       "      <td>NaN</td>\n",
       "      <td>NaN</td>\n",
       "      <td>NaN</td>\n",
       "      <td>NaN</td>\n",
       "      <td>NaN</td>\n",
       "      <td>NaN</td>\n",
       "      <td>NaN</td>\n",
       "      <td>...</td>\n",
       "      <td>NaN</td>\n",
       "      <td>NaN</td>\n",
       "      <td>NaN</td>\n",
       "      <td>NaN</td>\n",
       "      <td>NaN</td>\n",
       "      <td>NaN</td>\n",
       "      <td>NaN</td>\n",
       "      <td>NaN</td>\n",
       "      <td>NaN</td>\n",
       "      <td>NaN</td>\n",
       "    </tr>\n",
       "  </tbody>\n",
       "</table>\n",
       "<p>1 rows × 186 columns</p>\n",
       "</div>"
      ],
      "text/plain": [
       "      Kasus Bukan Kasus Bukan Kasus Bukan Kasus Bukan Kasus Bukan Kasus  \\\n",
       "Tweet   NaN         NaN         NaN         NaN         NaN         NaN   \n",
       "\n",
       "      Bukan Kasus Bukan Kasus Bukan Kasus Bukan Kasus  ... Kasus Bukan Kasus  \\\n",
       "Tweet         NaN         NaN         NaN         NaN  ...   NaN         NaN   \n",
       "\n",
       "      Bukan Kasus Bukan Kasus Bukan Kasus Bukan Kasus Kasus Bukan Kasus  \\\n",
       "Tweet         NaN         NaN         NaN         NaN   NaN         NaN   \n",
       "\n",
       "      Bukan Kasus Kasus  \n",
       "Tweet         NaN   NaN  \n",
       "\n",
       "[1 rows x 186 columns]"
      ]
     },
     "execution_count": 28,
     "metadata": {},
     "output_type": "execute_result"
    }
   ],
   "source": [
    "test = pd.DataFrame (dt['Tweet'],[testing_unigram]).T\n",
    "test"
   ]
  },
  {
   "cell_type": "code",
   "execution_count": 21,
   "metadata": {},
   "outputs": [
    {
     "name": "stdout",
     "output_type": "stream",
     "text": [
      "Accuracy:  0.9301075268817204\n"
     ]
    },
    {
     "data": {
      "image/png": "[encoded data removed]",
      "text/plain": [
       "<Figure size 432x288 with 2 Axes>"
      ]
     },
     "metadata": {
      "needs_background": "light"
     },
     "output_type": "display_data"
    }
   ],
   "source": [
    "score_bnb = metrics.accuracy_score(testing_bigram, dt['Label'])\n",
    "print(\"Accuracy: \",score_bnb)\n",
    "sns.heatmap(confusion_matrix(testing_bigram, dt['Label']), annot=True, fmt=\".0f\")\n",
    "plt.title('Confusion Matrix Klasifikasi Kasus DBD')\n",
    "plt.show()"
   ]
  },
  {
   "cell_type": "code",
   "execution_count": 22,
   "metadata": {
    "scrolled": true
   },
   "outputs": [
    {
     "name": "stdout",
     "output_type": "stream",
     "text": [
      "              precision    recall  f1-score   support\n",
      "\n",
      " Bukan Kasus       0.94      0.85      0.89        60\n",
      "       Kasus       0.93      0.98      0.95       126\n",
      "\n",
      "    accuracy                           0.94       186\n",
      "   macro avg       0.94      0.91      0.92       186\n",
      "weighted avg       0.94      0.94      0.93       186\n",
      "\n",
      "              precision    recall  f1-score   support\n",
      "\n",
      " Bukan Kasus       0.86      0.93      0.90        60\n",
      "       Kasus       0.97      0.93      0.95       126\n",
      "\n",
      "    accuracy                           0.93       186\n",
      "   macro avg       0.91      0.93      0.92       186\n",
      "weighted avg       0.93      0.93      0.93       186\n",
      "\n"
     ]
    }
   ],
   "source": [
    "from sklearn.metrics import classification_report\n",
    "print(classification_report(dt['Label'], testing_unigram))\n",
    "print(classification_report(dt['Label'], testing_bigram))"
   ]
  },
  {
   "cell_type": "code",
   "execution_count": 23,
   "metadata": {},
   "outputs": [],
   "source": [
    "import pickle\n",
    "\n",
    "f = open('model_unigram.pickle', 'wb')\n",
    "pickle.dump(bnb_unigram, f)\n",
    "f.close()"
   ]
  },
  {
   "cell_type": "code",
   "execution_count": 24,
   "metadata": {},
   "outputs": [],
   "source": [
    "import pickle\n",
    "\n",
    "f = open('model_bigramm.pickle', 'wb')\n",
    "pickle.dump(bnb_bigram, f)\n",
    "f.close()"
   ]
  },
  {
   "cell_type": "code",
   "execution_count": 25,
   "metadata": {},
   "outputs": [],
   "source": [
    "import pickle\n",
    "\n",
    "f = open('model_unigram.pickle', 'rb')\n",
    "classifier = pickle.load(f)\n",
    "f.close()"
   ]
  },
  {
   "cell_type": "code",
   "execution_count": 41,
   "metadata": {},
   "outputs": [],
   "source": [
    "test_text = pd.read_excel('data_test.xlsx')\n",
    "test_text['Tweet'] = test_text['Tweet'].apply(lambda x: ProTweets(x))\n",
    "test_text = count_unigram.transform(test_text['Tweet'])"
   ]
  },
  {
   "cell_type": "code",
   "execution_count": 42,
   "metadata": {
    "scrolled": true
   },
   "outputs": [],
   "source": [
    "test = classifier.predict(test_text)"
   ]
  },
  {
   "cell_type": "code",
   "execution_count": 43,
   "metadata": {},
   "outputs": [
    {
     "data": {
      "text/plain": [
       "array(['Kasus', 'Bukan Kasus', 'Bukan Kasus', 'Bukan Kasus',\n",
       "       'Bukan Kasus', 'Bukan Kasus', 'Bukan Kasus', 'Bukan Kasus',\n",
       "       'Bukan Kasus', 'Bukan Kasus', 'Bukan Kasus', 'Bukan Kasus',\n",
       "       'Bukan Kasus', 'Bukan Kasus', 'Bukan Kasus', 'Kasus',\n",
       "       'Bukan Kasus', 'Bukan Kasus', 'Bukan Kasus', 'Bukan Kasus',\n",
       "       'Bukan Kasus', 'Bukan Kasus', 'Bukan Kasus', 'Bukan Kasus',\n",
       "       'Bukan Kasus', 'Kasus', 'Bukan Kasus', 'Bukan Kasus', 'Kasus',\n",
       "       'Kasus', 'Kasus', 'Bukan Kasus', 'Bukan Kasus', 'Kasus', 'Kasus',\n",
       "       'Kasus', 'Kasus', 'Kasus', 'Kasus', 'Kasus', 'Kasus', 'Kasus',\n",
       "       'Kasus', 'Kasus', 'Kasus', 'Kasus', 'Kasus', 'Kasus', 'Kasus',\n",
       "       'Kasus', 'Kasus', 'Kasus', 'Kasus', 'Kasus', 'Kasus', 'Kasus',\n",
       "       'Kasus', 'Kasus', 'Kasus', 'Kasus', 'Kasus', 'Kasus', 'Kasus',\n",
       "       'Kasus', 'Kasus', 'Kasus', 'Kasus', 'Bukan Kasus', 'Kasus',\n",
       "       'Kasus', 'Kasus', 'Kasus', 'Kasus', 'Kasus', 'Kasus', 'Kasus',\n",
       "       'Kasus', 'Kasus', 'Kasus', 'Kasus', 'Kasus', 'Kasus',\n",
       "       'Bukan Kasus', 'Kasus', 'Bukan Kasus', 'Bukan Kasus',\n",
       "       'Bukan Kasus', 'Bukan Kasus', 'Bukan Kasus', 'Bukan Kasus',\n",
       "       'Kasus', 'Bukan Kasus', 'Bukan Kasus', 'Bukan Kasus', 'Kasus',\n",
       "       'Kasus', 'Kasus', 'Kasus', 'Kasus', 'Kasus', 'Kasus', 'Kasus',\n",
       "       'Kasus', 'Kasus', 'Kasus', 'Kasus', 'Kasus', 'Kasus', 'Kasus',\n",
       "       'Kasus', 'Kasus', 'Kasus', 'Kasus', 'Kasus', 'Kasus', 'Kasus',\n",
       "       'Kasus', 'Kasus', 'Kasus', 'Kasus', 'Bukan Kasus', 'Kasus',\n",
       "       'Kasus', 'Kasus', 'Kasus', 'Kasus', 'Kasus', 'Kasus', 'Kasus',\n",
       "       'Kasus', 'Kasus', 'Kasus', 'Kasus', 'Kasus', 'Kasus', 'Kasus',\n",
       "       'Kasus', 'Kasus', 'Bukan Kasus', 'Bukan Kasus', 'Kasus', 'Kasus',\n",
       "       'Bukan Kasus', 'Bukan Kasus', 'Bukan Kasus', 'Kasus', 'Kasus',\n",
       "       'Bukan Kasus', 'Bukan Kasus', 'Bukan Kasus', 'Kasus', 'Kasus',\n",
       "       'Kasus', 'Kasus', 'Kasus', 'Kasus', 'Kasus', 'Kasus', 'Kasus',\n",
       "       'Kasus', 'Kasus', 'Kasus', 'Kasus', 'Kasus', 'Kasus', 'Kasus',\n",
       "       'Kasus', 'Kasus', 'Kasus', 'Kasus', 'Kasus', 'Kasus', 'Kasus',\n",
       "       'Kasus', 'Kasus', 'Kasus', 'Kasus', 'Bukan Kasus', 'Bukan Kasus',\n",
       "       'Bukan Kasus', 'Bukan Kasus', 'Bukan Kasus', 'Kasus',\n",
       "       'Bukan Kasus', 'Bukan Kasus', 'Kasus'], dtype='<U11')"
      ]
     },
     "execution_count": 43,
     "metadata": {},
     "output_type": "execute_result"
    }
   ],
   "source": [
    "test"
   ]
  },
  {
   "cell_type": "code",
   "execution_count": 44,
   "metadata": {},
   "outputs": [],
   "source": [
    "def predict(text,bnb_unigram,count_unigram,ProTweets):\n",
    "    text = ProTweets(text)\n",
    "    vect_text = count_unigram.transform([text])\n",
    "    out = bnb_unigram.predict(vect_text)\n",
    "    if out == 'Kasus' :\n",
    "        return 'Kasus'\n",
    "    else :\n",
    "        return 'Bukan Kasus'"
   ]
  },
  {
   "cell_type": "code",
   "execution_count": 45,
   "metadata": {},
   "outputs": [
    {
     "data": {
      "text/plain": [
       "'Kasus'"
      ]
     },
     "execution_count": 45,
     "metadata": {},
     "output_type": "execute_result"
    }
   ],
   "source": [
    "test_text = 'kasus dbd meningkat di jakarta'\n",
    "predict(test_text,bnb_unigram,count_unigram,ProTweets)"
   ]
  },
  {
   "cell_type": "code",
   "execution_count": null,
   "metadata": {},
   "outputs": [],
   "source": []
  }
 ],
 "metadata": {
  "kernelspec": {
   "display_name": "Python 3",
   "language": "python",
   "name": "python3"
  },
  "language_info": {
   "codemirror_mode": {
    "name": "ipython",
    "version": 3
   },
   "file_extension": ".py",
   "mimetype": "text/x-python",
   "name": "python",
   "nbconvert_exporter": "python",
   "pygments_lexer": "ipython3",
   "version": "3.8.3"
  }
 },
 "nbformat": 4,
 "nbformat_minor": 4
}
